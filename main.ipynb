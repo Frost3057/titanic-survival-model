{
 "cells": [
  {
   "cell_type": "code",
   "execution_count": 49,
   "id": "363372f4",
   "metadata": {},
   "outputs": [
    {
     "name": "stdout",
     "output_type": "stream",
     "text": [
      "Requirement already satisfied: kaggle in c:\\users\\amanb\\appdata\\local\\programs\\python\\python312\\lib\\site-packages (1.7.4.5)\n",
      "Requirement already satisfied: torch in c:\\users\\amanb\\appdata\\local\\programs\\python\\python312\\lib\\site-packages (2.7.1)\n",
      "Requirement already satisfied: numpy in c:\\users\\amanb\\appdata\\local\\programs\\python\\python312\\lib\\site-packages (2.3.1)\n",
      "Requirement already satisfied: matplotlib in c:\\users\\amanb\\appdata\\local\\programs\\python\\python312\\lib\\site-packages (3.10.3)\n",
      "Requirement already satisfied: pandas in c:\\users\\amanb\\appdata\\local\\programs\\python\\python312\\lib\\site-packages (2.3.1)\n",
      "Requirement already satisfied: bleach in c:\\users\\amanb\\appdata\\local\\programs\\python\\python312\\lib\\site-packages (from kaggle) (6.2.0)\n",
      "Requirement already satisfied: certifi>=14.05.14 in c:\\users\\amanb\\appdata\\local\\programs\\python\\python312\\lib\\site-packages (from kaggle) (2025.7.14)\n",
      "Requirement already satisfied: charset-normalizer in c:\\users\\amanb\\appdata\\local\\programs\\python\\python312\\lib\\site-packages (from kaggle) (3.4.2)\n",
      "Requirement already satisfied: idna in c:\\users\\amanb\\appdata\\local\\programs\\python\\python312\\lib\\site-packages (from kaggle) (3.10)\n",
      "Requirement already satisfied: protobuf in c:\\users\\amanb\\appdata\\local\\programs\\python\\python312\\lib\\site-packages (from kaggle) (6.31.1)\n",
      "Requirement already satisfied: python-dateutil>=2.5.3 in c:\\users\\amanb\\appdata\\roaming\\python\\python312\\site-packages (from kaggle) (2.9.0.post0)\n",
      "Requirement already satisfied: python-slugify in c:\\users\\amanb\\appdata\\local\\programs\\python\\python312\\lib\\site-packages (from kaggle) (8.0.4)\n",
      "Requirement already satisfied: requests in c:\\users\\amanb\\appdata\\local\\programs\\python\\python312\\lib\\site-packages (from kaggle) (2.32.4)\n",
      "Requirement already satisfied: setuptools>=21.0.0 in c:\\users\\amanb\\appdata\\local\\programs\\python\\python312\\lib\\site-packages (from kaggle) (80.9.0)\n",
      "Requirement already satisfied: six>=1.10 in c:\\users\\amanb\\appdata\\roaming\\python\\python312\\site-packages (from kaggle) (1.17.0)\n",
      "Requirement already satisfied: text-unidecode in c:\\users\\amanb\\appdata\\local\\programs\\python\\python312\\lib\\site-packages (from kaggle) (1.3)\n",
      "Requirement already satisfied: tqdm in c:\\users\\amanb\\appdata\\local\\programs\\python\\python312\\lib\\site-packages (from kaggle) (4.67.1)\n",
      "Requirement already satisfied: urllib3>=1.15.1 in c:\\users\\amanb\\appdata\\local\\programs\\python\\python312\\lib\\site-packages (from kaggle) (2.5.0)\n",
      "Requirement already satisfied: webencodings in c:\\users\\amanb\\appdata\\local\\programs\\python\\python312\\lib\\site-packages (from kaggle) (0.5.1)\n",
      "Requirement already satisfied: filelock in c:\\users\\amanb\\appdata\\local\\programs\\python\\python312\\lib\\site-packages (from torch) (3.18.0)\n",
      "Requirement already satisfied: typing-extensions>=4.10.0 in c:\\users\\amanb\\appdata\\local\\programs\\python\\python312\\lib\\site-packages (from torch) (4.14.1)\n",
      "Requirement already satisfied: sympy>=1.13.3 in c:\\users\\amanb\\appdata\\local\\programs\\python\\python312\\lib\\site-packages (from torch) (1.14.0)\n",
      "Requirement already satisfied: networkx in c:\\users\\amanb\\appdata\\local\\programs\\python\\python312\\lib\\site-packages (from torch) (3.5)\n",
      "Requirement already satisfied: jinja2 in c:\\users\\amanb\\appdata\\local\\programs\\python\\python312\\lib\\site-packages (from torch) (3.1.6)\n",
      "Requirement already satisfied: fsspec in c:\\users\\amanb\\appdata\\local\\programs\\python\\python312\\lib\\site-packages (from torch) (2025.7.0)\n",
      "Requirement already satisfied: contourpy>=1.0.1 in c:\\users\\amanb\\appdata\\local\\programs\\python\\python312\\lib\\site-packages (from matplotlib) (1.3.2)\n",
      "Requirement already satisfied: cycler>=0.10 in c:\\users\\amanb\\appdata\\local\\programs\\python\\python312\\lib\\site-packages (from matplotlib) (0.12.1)\n",
      "Requirement already satisfied: fonttools>=4.22.0 in c:\\users\\amanb\\appdata\\local\\programs\\python\\python312\\lib\\site-packages (from matplotlib) (4.59.0)\n",
      "Requirement already satisfied: kiwisolver>=1.3.1 in c:\\users\\amanb\\appdata\\local\\programs\\python\\python312\\lib\\site-packages (from matplotlib) (1.4.8)\n",
      "Requirement already satisfied: packaging>=20.0 in c:\\users\\amanb\\appdata\\roaming\\python\\python312\\site-packages (from matplotlib) (25.0)\n",
      "Requirement already satisfied: pillow>=8 in c:\\users\\amanb\\appdata\\local\\programs\\python\\python312\\lib\\site-packages (from matplotlib) (11.3.0)\n",
      "Requirement already satisfied: pyparsing>=2.3.1 in c:\\users\\amanb\\appdata\\local\\programs\\python\\python312\\lib\\site-packages (from matplotlib) (3.2.3)\n",
      "Requirement already satisfied: pytz>=2020.1 in c:\\users\\amanb\\appdata\\local\\programs\\python\\python312\\lib\\site-packages (from pandas) (2025.2)\n",
      "Requirement already satisfied: tzdata>=2022.7 in c:\\users\\amanb\\appdata\\local\\programs\\python\\python312\\lib\\site-packages (from pandas) (2025.2)\n",
      "Requirement already satisfied: mpmath<1.4,>=1.1.0 in c:\\users\\amanb\\appdata\\local\\programs\\python\\python312\\lib\\site-packages (from sympy>=1.13.3->torch) (1.3.0)\n",
      "Requirement already satisfied: MarkupSafe>=2.0 in c:\\users\\amanb\\appdata\\local\\programs\\python\\python312\\lib\\site-packages (from jinja2->torch) (3.0.2)\n",
      "Requirement already satisfied: colorama in c:\\users\\amanb\\appdata\\roaming\\python\\python312\\site-packages (from tqdm->kaggle) (0.4.6)\n",
      "Note: you may need to restart the kernel to use updated packages.\n"
     ]
    },
    {
     "name": "stderr",
     "output_type": "stream",
     "text": [
      "\n",
      "[notice] A new release of pip is available: 25.0.1 -> 25.1.1\n",
      "[notice] To update, run: python.exe -m pip install --upgrade pip\n"
     ]
    }
   ],
   "source": [
    "pip install kaggle torch numpy matplotlib pandas"
   ]
  },
  {
   "cell_type": "code",
   "execution_count": 50,
   "id": "015b141c",
   "metadata": {},
   "outputs": [
    {
     "name": "stdout",
     "output_type": "stream",
     "text": [
      "Using cpu device\n"
     ]
    }
   ],
   "source": [
    "import torch\n",
    "import matplotlib.pyplot as plt\n",
    "import numpy as np\n",
    "import pandas as pd\n",
    "\n",
    "device = 'cuda' if torch.cuda.is_available() else 'cpu'\n",
    "print(f'Using {device} device')"
   ]
  },
  {
   "cell_type": "markdown",
   "id": "d01b7830",
   "metadata": {},
   "source": [
    "Loading Data"
   ]
  },
  {
   "cell_type": "code",
   "execution_count": 82,
   "id": "158c3408",
   "metadata": {},
   "outputs": [],
   "source": [
    "train_file_path = r\"titanic/train.csv\"\n",
    "test_file_path = r\"titanic/test.csv\"\n",
    "train = pd.read_csv(train_file_path)\n",
    "test = pd.read_csv(test_file_path)"
   ]
  },
  {
   "cell_type": "markdown",
   "id": "1913e8b5",
   "metadata": {},
   "source": [
    "Data Preprocessing"
   ]
  },
  {
   "cell_type": "code",
   "execution_count": 83,
   "id": "8e011627",
   "metadata": {},
   "outputs": [
    {
     "name": "stdout",
     "output_type": "stream",
     "text": [
      "x_train_tensor shape: torch.Size([891, 4])\n"
     ]
    },
    {
     "name": "stderr",
     "output_type": "stream",
     "text": [
      "C:\\Users\\amanb\\AppData\\Local\\Temp\\ipykernel_12576\\2549983093.py:1: FutureWarning: A value is trying to be set on a copy of a DataFrame or Series through chained assignment using an inplace method.\n",
      "The behavior will change in pandas 3.0. This inplace method will never work because the intermediate object on which we are setting values always behaves as a copy.\n",
      "\n",
      "For example, when doing 'df[col].method(value, inplace=True)', try using 'df.method({col: value}, inplace=True)' or df[col] = df[col].method(value) instead, to perform the operation inplace on the original object.\n",
      "\n",
      "\n",
      "  train['Age'].fillna(train['Age'].median(), inplace=True)\n",
      "C:\\Users\\amanb\\AppData\\Local\\Temp\\ipykernel_12576\\2549983093.py:2: FutureWarning: A value is trying to be set on a copy of a DataFrame or Series through chained assignment using an inplace method.\n",
      "The behavior will change in pandas 3.0. This inplace method will never work because the intermediate object on which we are setting values always behaves as a copy.\n",
      "\n",
      "For example, when doing 'df[col].method(value, inplace=True)', try using 'df.method({col: value}, inplace=True)' or df[col] = df[col].method(value) instead, to perform the operation inplace on the original object.\n",
      "\n",
      "\n",
      "  test['Age'].fillna(test['Age'].median(), inplace=True)\n"
     ]
    }
   ],
   "source": [
    "train['Age'].fillna(train['Age'].median(), inplace=True)\n",
    "test['Age'].fillna(test['Age'].median(), inplace=True)\n",
    "train.drop('Cabin', axis=1, inplace=True)\n",
    "test.drop('Cabin', axis=1, inplace=True)\n",
    "\n",
    "features = ['Pclass', 'Sex', 'Age', 'Parch']\n",
    "y_train = train['Survived'].to_numpy(dtype='float32')\n",
    "x_train = pd.get_dummies(train[features], drop_first=True, dtype='float32')\n",
    "x_test = pd.get_dummies(test[features], drop_first=True, dtype='float32')\n",
    "x_train_tensor = torch.tensor(x_train.values, dtype=torch.float32)\n",
    "y_train_tensor = torch.tensor(y_train, dtype=torch.float32).unsqueeze(1)\n",
    "x_test_tensor = torch.tensor(x_test.values, dtype=torch.float32)\n",
    "\n",
    "print(f'x_train_tensor shape: {x_train_tensor.shape}')"
   ]
  },
  {
   "cell_type": "code",
   "execution_count": 94,
   "id": "3824563d",
   "metadata": {},
   "outputs": [],
   "source": [
    "from torch import nn\n",
    "\n",
    "class SurvivalClassifier(nn.Module):\n",
    "    def __init__(self, input_features):\n",
    "        super().__init__()\n",
    "        self.layer_1 = nn.Linear(input_features, 8)\n",
    "        self.layer_2 = nn.Linear(8, 32)\n",
    "        self.layer_3 = nn.Linear(32, 8)\n",
    "        self.layer_4 = nn.Linear(8, 1)\n",
    "        self.relu = nn.ReLU()\n",
    "    def forward(self, x):\n",
    "        return self.layer_4(self.relu(self.layer_3(self.relu(self.layer_2(self.relu(self.layer_1(x)))))))\n",
    "\n",
    "input_features = x_train_tensor.shape[1]\n",
    "model = SurvivalClassifier(input_features).to(device)"
   ]
  },
  {
   "cell_type": "code",
   "execution_count": 95,
   "id": "c5f65dbd",
   "metadata": {},
   "outputs": [],
   "source": [
    "loss_fn = nn.BCEWithLogitsLoss()\n",
    "optimizer = torch.optim.SGD(params=model.parameters(), lr=0.1)"
   ]
  },
  {
   "cell_type": "code",
   "execution_count": 96,
   "id": "9171f111",
   "metadata": {},
   "outputs": [],
   "source": [
    "def accuracy_fn(y_true, y_pred):\n",
    "    predicted = torch.round(torch.sigmoid(y_pred))\n",
    "    correct = (predicted == y_true).sum().item()\n",
    "    acc = (correct / len(y_pred)) * 100\n",
    "    return acc"
   ]
  },
  {
   "cell_type": "code",
   "execution_count": 99,
   "id": "cf991652",
   "metadata": {},
   "outputs": [
    {
     "name": "stdout",
     "output_type": "stream",
     "text": [
      "Epoch: 0 | Loss: 0.40075, Acc: 82.27%\n",
      "Epoch: 1000 | Loss: 0.41379, Acc: 81.71%\n",
      "Epoch: 2000 | Loss: 0.46150, Acc: 77.33%\n",
      "Epoch: 3000 | Loss: 0.39345, Acc: 83.16%\n",
      "Epoch: 4000 | Loss: 0.38983, Acc: 83.16%\n",
      "Epoch: 5000 | Loss: 0.39176, Acc: 82.72%\n",
      "Epoch: 6000 | Loss: 0.38940, Acc: 83.28%\n",
      "Epoch: 7000 | Loss: 0.38842, Acc: 83.16%\n",
      "Epoch: 8000 | Loss: 0.38240, Acc: 83.61%\n",
      "Epoch: 9000 | Loss: 0.37650, Acc: 83.50%\n"
     ]
    }
   ],
   "source": [
    "epochs = 10000\n",
    "\n",
    "x_train_tensor = x_train_tensor.to(device)\n",
    "y_train_tensor = y_train_tensor.to(device)\n",
    "\n",
    "for epoch in range(epochs):\n",
    "    model.train()\n",
    "    y_logits = model(x_train_tensor)\n",
    "    loss = loss_fn(y_logits, y_train_tensor)\n",
    "    acc = accuracy_fn(y_train_tensor, y_logits)\n",
    "\n",
    "    optimizer.zero_grad()\n",
    "    loss.backward()\n",
    "    optimizer.step()\n",
    "    if epoch % 1000 == 0:\n",
    "        print(f\"Epoch: {epoch} | Loss: {loss:.5f}, Acc: {acc:.2f}%\")"
   ]
  },
  {
   "cell_type": "code",
   "execution_count": 92,
   "id": "fd2c6b5c",
   "metadata": {},
   "outputs": [
    {
     "name": "stdout",
     "output_type": "stream",
     "text": [
      "Output Saved\n"
     ]
    }
   ],
   "source": [
    "import csv\n",
    "model.eval()\n",
    "with torch.inference_mode():\n",
    "     logits = model(x_test_tensor).squeeze()\n",
    "     preds = torch.round(torch.sigmoid(logits))\n",
    "\n",
    "results = preds.numpy().astype(dtype=np.int32)\n",
    "data = []\n",
    "passengerId = test[\"PassengerId\"].to_numpy(dtype=\"int32\")\n",
    "for index,result in enumerate(results):\n",
    "     data.append({\"PassengerId\":passengerId[index],\"Survived\":result})\n",
    "df = pd.DataFrame(data)\n",
    "df.to_csv(\"output.csv\",index=False)\n",
    "print(\"Output Saved\")"
   ]
  }
 ],
 "metadata": {
  "kernelspec": {
   "display_name": "Python 3",
   "language": "python",
   "name": "python3"
  },
  "language_info": {
   "codemirror_mode": {
    "name": "ipython",
    "version": 3
   },
   "file_extension": ".py",
   "mimetype": "text/x-python",
   "name": "python",
   "nbconvert_exporter": "python",
   "pygments_lexer": "ipython3",
   "version": "3.12.10"
  }
 },
 "nbformat": 4,
 "nbformat_minor": 5
}
